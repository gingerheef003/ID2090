{
 "cells": [
  {
   "cell_type": "code",
   "execution_count": 11,
   "id": "19cd72ad",
   "metadata": {},
   "outputs": [],
   "source": [
    "x = matrix([4,2,7])\n",
    "y = matrix([1,4,5])"
   ]
  },
  {
   "cell_type": "code",
   "execution_count": 14,
   "id": "cf6716ac",
   "metadata": {},
   "outputs": [],
   "source": [
    "z = x.transpose() * y"
   ]
  },
  {
   "cell_type": "code",
   "execution_count": 15,
   "id": "5adfa58b",
   "metadata": {},
   "outputs": [
    {
     "data": {
      "text/plain": [
       "[ 4 16 20]\n",
       "[ 2  8 10]\n",
       "[ 7 28 35]"
      ]
     },
     "execution_count": 15,
     "metadata": {},
     "output_type": "execute_result"
    }
   ],
   "source": [
    "z"
   ]
  },
  {
   "cell_type": "code",
   "execution_count": 16,
   "id": "86fc02bc",
   "metadata": {},
   "outputs": [
    {
     "data": {
      "text/plain": [
       "47.0"
      ]
     },
     "execution_count": 16,
     "metadata": {},
     "output_type": "execute_result"
    }
   ],
   "source": [
    "z.trace().n(digits=3)"
   ]
  }
 ],
 "metadata": {
  "kernelspec": {
   "display_name": "SageMath 9.6",
   "language": "sage",
   "name": "sagemath"
  },
  "language_info": {
   "codemirror_mode": {
    "name": "ipython",
    "version": 3
   },
   "file_extension": ".py",
   "mimetype": "text/x-python",
   "name": "python",
   "nbconvert_exporter": "python",
   "pygments_lexer": "ipython3",
   "version": "3.10.5"
  }
 },
 "nbformat": 4,
 "nbformat_minor": 5
}
