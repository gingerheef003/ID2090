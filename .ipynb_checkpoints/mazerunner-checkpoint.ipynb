{
 "cells": [
  {
   "cell_type": "code",
   "execution_count": 1,
   "id": "8ca1183a",
   "metadata": {},
   "outputs": [],
   "source": [
    "import matplotlib.pyplot as plt"
   ]
  },
  {
   "cell_type": "code",
   "execution_count": 1,
   "id": "9a0f8361",
   "metadata": {},
   "outputs": [
    {
     "name": "stdout",
     "output_type": "stream",
     "text": [
      "[[1, 0, 1, 1], [1, 0, 1, 1], [0, 1, 1, 1], [1, 1, 0, 1]]\n",
      "[[1, 1, 1, 1, 1], [1, 0, 1, 1, 1], [1, 0, 0, 1, 1]]\n"
     ]
    }
   ],
   "source": [
    "l = ''\n",
    "H,V = [],[]\n",
    "h,v = [],[]\n",
    "rowOne = True\n",
    "\n",
    "with open(\"maze.txt\", 'r') as f:\n",
    "    l = f.read()\n",
    "\n",
    "for k in range(len(l)):\n",
    "    if rowOne:\n",
    "        if l[k] == ',':\n",
    "            h.append(int(l[k-1]))\n",
    "        elif l[k] == ';':\n",
    "            h.append(int(l[k-1]))\n",
    "            H.append(h)\n",
    "            h = []\n",
    "        elif l[k] == '\\n':\n",
    "            rowOne = False\n",
    "    else:\n",
    "        if l[k] == ',':\n",
    "            v.append(int(l[k-1]))\n",
    "        elif l[k] == ';':\n",
    "            v.append(int(l[k-1]))\n",
    "            V.append(v)\n",
    "            v = []\n",
    "print(H)\n",
    "print(V)"
   ]
  },
  {
   "cell_type": "code",
   "execution_count": 4,
   "id": "b5ef3252",
   "metadata": {},
   "outputs": [
    {
     "data": {
      "image/png": "[encoded data removed]",
      "text/plain": [
       "<Figure size 432x288 with 1 Axes>"
      ]
     },
     "metadata": {
      "needs_background": "light"
     },
     "output_type": "display_data"
    }
   ],
   "source": [
    "d = 0.06\n",
    "\n",
    "for j,n in enumerate(H):\n",
    "    for i,m in enumerate(n):\n",
    "        if m == 1:\n",
    "            plt.plot([i+d,i+1-d],[j,j], c='b', lw='5')\n",
    "for j,n in enumerate(V):\n",
    "    for i,m in enumerate(n):\n",
    "        if m == 1:\n",
    "            plt.plot([i,i],[j+d,j+1-d], c='r', lw='5')"
   ]
  },
  {
   "cell_type": "code",
   "execution_count": 6,
   "id": "48c15495",
   "metadata": {},
   "outputs": [
    {
     "name": "stdout",
     "output_type": "stream",
     "text": [
      "[[2, 1], (2, 2), (1, 2), (1, 3), (2, 3), (3, 3)]\n"
     ]
    }
   ],
   "source": [
    "hi,hj,vi,vj = 0,0,0,0\n",
    "p = []\n",
    "while hi < len(H[0]):\n",
    "    if H[0][hi] == 0:\n",
    "        p.append([hi+1,1])\n",
    "        break\n",
    "    hi+=1\n",
    "\n",
    "fromLeft = 0\n",
    "fromRight = 0\n",
    "def pathfinder(x,y):\n",
    "    global fromLeft,fromRight\n",
    "    if y < len(H):\n",
    "        if H[y][x-1] == 0:\n",
    "            p.append((x,y+1))\n",
    "            fromRight = 0\n",
    "            fromLeft = 0\n",
    "            pathfinder(x,y+1)\n",
    "        else:\n",
    "            if fromRight == 0 and V[y-1][x] == 0:\n",
    "                    p.append((x+1,y))\n",
    "                    fromLeft = 1\n",
    "                    fromRight = 0\n",
    "                    pathfinder(x+1,y)\n",
    "            elif fromLeft == 0 and V[y-1][x-1] == 0:\n",
    "                    p.append((x-1,y))\n",
    "                    fromRight = 1\n",
    "                    fromLeft = 0\n",
    "                    pathfinder(x-1,y)                    \n",
    "            else:\n",
    "                print(\"No path possible\")\n",
    "\n",
    "pathfinder(p[0][0],p[0][1])\n",
    "p = p[:-1]\n",
    "print(p)"
   ]
  },
  {
   "cell_type": "code",
   "execution_count": 7,
   "id": "1a7cdcf6",
   "metadata": {},
   "outputs": [
    {
     "data": {
      "text/plain": [
       "[<matplotlib.lines.Line2D at 0x7fd9fd029300>]"
      ]
     },
     "execution_count": 7,
     "metadata": {},
     "output_type": "execute_result"
    },
    {
     "data": {
      "image/png": "[encoded data removed]",
      "text/plain": [
       "<Figure size 432x288 with 1 Axes>"
      ]
     },
     "metadata": {
      "needs_background": "light"
     },
     "output_type": "display_data"
    }
   ],
   "source": [
    "for j,n in enumerate(H):\n",
    "    for i,m in enumerate(n):\n",
    "        if m == 1:\n",
    "            plt.plot([i+d,i+1-d],[j,j], c='b', lw='5')\n",
    "for j,n in enumerate(V):\n",
    "    for i,m in enumerate(n):\n",
    "        if m == 1:\n",
    "            plt.plot([i,i],[j+d,j+1-d], c='r', lw='5')\n",
    "\n",
    "hf = 0.5\n",
    "\n",
    "plt.plot([p[0][0]-hf,p[0][0]-hf],[0-hf,0+hf], c='y', lw='5')\n",
    "\n",
    "for x,y in enumerate(p[:-1]):\n",
    "    if p[x+1][0] == y[0]:\n",
    "        plt.plot([y[0]-hf,y[0]-hf],[y[1]-hf,y[1]+hf], c='y', lw='5')\n",
    "    else:\n",
    "        plt.plot([y[0]-hf,p[x+1][0]-hf],[y[1]-hf,y[1]-hf], c='y', lw='5')\n",
    "        \n",
    "plt.plot([p[-1][0]-hf,p[-1][0]-hf],[p[-1][1]-hf,p[-1][1]+hf], c='y', lw='5')\n"
   ]
  },
  {
   "cell_type": "code",
   "execution_count": null,
   "id": "bd0d3fb3",
   "metadata": {},
   "outputs": [],
   "source": []
  }
 ],
 "metadata": {
  "kernelspec": {
   "display_name": "Python 3 (ipykernel)",
   "language": "python",
   "name": "python3"
  },
  "language_info": {
   "codemirror_mode": {
    "name": "ipython",
    "version": 3
   },
   "file_extension": ".py",
   "mimetype": "text/x-python",
   "name": "python",
   "nbconvert_exporter": "python",
   "pygments_lexer": "ipython3",
   "version": "3.10.4"
  }
 },
 "nbformat": 4,
 "nbformat_minor": 5
}
